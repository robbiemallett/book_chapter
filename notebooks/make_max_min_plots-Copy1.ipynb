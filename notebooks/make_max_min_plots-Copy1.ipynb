{
 "cells": [
  {
   "cell_type": "code",
   "execution_count": 2,
   "id": "388068a2",
   "metadata": {},
   "outputs": [
    {
     "name": "stderr",
     "output_type": "stream",
     "text": [
      "2021-06-09 11:07:42,008 INFO Welcome to the CDS\n",
      "2021-06-09 11:07:42,009 INFO Sending request to https://cds.climate.copernicus.eu/api/v2/resources/satellite-sea-ice-concentration\n",
      "2021-06-09 11:07:42,103 INFO Request is queued\n",
      "2021-06-09 11:07:43,129 INFO Request is running\n",
      "2021-06-09 11:14:00,364 INFO Request is completed\n",
      "2021-06-09 11:14:00,365 INFO Downloading https://download-0005.copernicus-climate.eu/cache-compute-0005/cache/data4/dataset-satellite-sea-ice-concentration-e21872bd-70dd-4413-a766-f40ae34684c1.zip to ../data/download.zip (303.9M)\n",
      "2021-06-09 11:15:44,102 INFO Download rate 2.9M/s  \n"
     ]
    },
    {
     "data": {
      "text/plain": [
       "Result(content_length=318652066,content_type=application/zip,location=https://download-0005.copernicus-climate.eu/cache-compute-0005/cache/data4/dataset-satellite-sea-ice-concentration-e21872bd-70dd-4413-a766-f40ae34684c1.zip)"
      ]
     },
     "execution_count": 2,
     "metadata": {},
     "output_type": "execute_result"
    }
   ],
   "source": [
    "import cdsapi\n",
    "\n",
    "c = cdsapi.Client()\n",
    "\n",
    "c.retrieve(\n",
    "    'satellite-sea-ice-concentration',\n",
    "    {\n",
    "        'version': 'v2',\n",
    "        'variable': 'all',\n",
    "        'format': 'zip',\n",
    "        'year': [\n",
    "            '1979', '1980', '1981',\n",
    "            '1982', '1983', '1984',\n",
    "            '1985', '1986', '1987',\n",
    "            '1988', '1989', '1990',\n",
    "            '1991', '1992', '1993',\n",
    "            '1994', '1995', '1996',\n",
    "            '1997', '1998', '1999',\n",
    "            '2000', '2001', '2002',\n",
    "            '2003', '2004', '2005',\n",
    "            '2006', '2007', '2008',\n",
    "            '2009', '2010', '2011',\n",
    "            '2012', '2013', '2014',\n",
    "            '2015',\n",
    "        ],\n",
    "        'origin': 'eumetsat_osi_saf',\n",
    "        'region': [\n",
    "            'northern_hemisphere', 'southern_hemisphere',\n",
    "        ],\n",
    "        'cdr_type': 'cdr',\n",
    "        'month': [\n",
    "            '03', '09',\n",
    "        ],\n",
    "        'day': [\n",
    "            '01', '02',\n",
    "        ],\n",
    "    },\n",
    "    '../data/download.zip')"
   ]
  },
  {
   "cell_type": "code",
   "execution_count": 8,
   "id": "28d86e8d",
   "metadata": {},
   "outputs": [],
   "source": [
    "import numpy as np\n",
    "import pandas as pd\n",
    "from netCDF4 import Dataset\n",
    "from cartoplot import cartoplot\n",
    "import matplotlib.pyplot as plt"
   ]
  },
  {
   "cell_type": "code",
   "execution_count": 14,
   "id": "9d9b63a1",
   "metadata": {},
   "outputs": [
    {
     "ename": "FileNotFoundError",
     "evalue": "[Errno 2] No such file or directory: b'/home/robbie/Dropbox/book_chapter/data/min_max_concs/ice_conc_nh_ease2-250_cdr-v2p0_198003011200.nc'",
     "output_type": "error",
     "traceback": [
      "\u001b[0;31m---------------------------------------------------------------------------\u001b[0m",
      "\u001b[0;31mFileNotFoundError\u001b[0m                         Traceback (most recent call last)",
      "\u001b[0;32m<ipython-input-14-c006798654d4>\u001b[0m in \u001b[0;36m<module>\u001b[0;34m\u001b[0m\n\u001b[1;32m      4\u001b[0m \u001b[0;34m\u001b[0m\u001b[0m\n\u001b[1;32m      5\u001b[0m \u001b[0;32mfor\u001b[0m \u001b[0myear\u001b[0m \u001b[0;32min\u001b[0m \u001b[0mnp\u001b[0m\u001b[0;34m.\u001b[0m\u001b[0marange\u001b[0m\u001b[0;34m(\u001b[0m\u001b[0;36m1979\u001b[0m\u001b[0;34m,\u001b[0m\u001b[0;36m2015\u001b[0m\u001b[0;34m)\u001b[0m\u001b[0;34m:\u001b[0m\u001b[0;34m\u001b[0m\u001b[0;34m\u001b[0m\u001b[0m\n\u001b[0;32m----> 6\u001b[0;31m     \u001b[0md\u001b[0m \u001b[0;34m=\u001b[0m \u001b[0mDataset\u001b[0m\u001b[0;34m(\u001b[0m\u001b[0;34mf'{data_dir}/ice_conc_nh_ease2-250_cdr-v2p0_{year}03011200.nc'\u001b[0m\u001b[0;34m)\u001b[0m\u001b[0;34m\u001b[0m\u001b[0;34m\u001b[0m\u001b[0m\n\u001b[0m\u001b[1;32m      7\u001b[0m \u001b[0;34m\u001b[0m\u001b[0m\n\u001b[1;32m      8\u001b[0m \u001b[0;31m#     print(d)\u001b[0m\u001b[0;34m\u001b[0m\u001b[0;34m\u001b[0m\u001b[0;34m\u001b[0m\u001b[0m\n",
      "\u001b[0;32mnetCDF4/_netCDF4.pyx\u001b[0m in \u001b[0;36mnetCDF4._netCDF4.Dataset.__init__\u001b[0;34m()\u001b[0m\n",
      "\u001b[0;32mnetCDF4/_netCDF4.pyx\u001b[0m in \u001b[0;36mnetCDF4._netCDF4._ensure_nc_success\u001b[0;34m()\u001b[0m\n",
      "\u001b[0;31mFileNotFoundError\u001b[0m: [Errno 2] No such file or directory: b'/home/robbie/Dropbox/book_chapter/data/min_max_concs/ice_conc_nh_ease2-250_cdr-v2p0_198003011200.nc'"
     ]
    }
   ],
   "source": [
    "data_dir = '/home/robbie/Dropbox/book_chapter/data/min_max_concs'\n",
    "\n",
    "concs = []\n",
    "\n",
    "for year in np.arange(1979,2015):\n",
    "    d = Dataset(f'{data_dir}/ice_conc_nh_ease2-250_cdr-v2p0_{year}03011200.nc')\n",
    "    \n",
    "#     print(d)\n",
    "    \n",
    "    conc = np.array(d['ice_conc'][0])\n",
    "    \n",
    "    conc[conc<15] = np.nan\n",
    "    conc[conc>=15] = 1\n",
    "    \n",
    "    concs.append(conc)\n",
    "    \n",
    "lons = np.array(d['lon'])\n",
    "lats = np.array(d['lat'])\n",
    "\n",
    "concs_sum = np.nansum(concs,axis=0)\n",
    "\n",
    "cartoplot(lons,lats,concs_sum)"
   ]
  },
  {
   "cell_type": "code",
   "execution_count": null,
   "id": "0d305a7c",
   "metadata": {},
   "outputs": [],
   "source": []
  }
 ],
 "metadata": {
  "kernelspec": {
   "display_name": "Python 3",
   "language": "python",
   "name": "python3"
  },
  "language_info": {
   "codemirror_mode": {
    "name": "ipython",
    "version": 3
   },
   "file_extension": ".py",
   "mimetype": "text/x-python",
   "name": "python",
   "nbconvert_exporter": "python",
   "pygments_lexer": "ipython3",
   "version": "3.7.10"
  }
 },
 "nbformat": 4,
 "nbformat_minor": 5
}
