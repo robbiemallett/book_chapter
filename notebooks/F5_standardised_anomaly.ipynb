{
 "cells": [
  {
   "cell_type": "code",
   "execution_count": 1,
   "id": "b689146d",
   "metadata": {},
   "outputs": [],
   "source": [
    "\"\"\"\n",
    "Created on Mon Oct 19 10:41:21 2020\n",
    "\n",
    "@author: stroeve\n",
    "\"\"\"\n",
    "import pandas as pd\n",
    "import numpy as np\n",
    "#import csv\n",
    "#import os\n",
    "import matplotlib.pyplot as plt\n",
    "import matplotlib as mpl\n",
    "from mpl_toolkits import axes_grid1\n",
    "import calendar\n",
    "\n",
    "#close all existing figures\n",
    "plt.close(\"all\")\n",
    "#set stype\n",
    "# plt.style.use('classic')\n",
    "\n",
    "def ax_add_colorbar(im, aspect=20., pad_fraction=0.05, **kwargs):\n",
    "    \"\"\"Add a vertical color bar to an image plot.\"\"\"\n",
    "    divider = axes_grid1.make_axes_locatable(im.axes)\n",
    "    width = axes_grid1.axes_size.AxesY(im.axes, aspect=1./aspect)\n",
    "    pad = axes_grid1.axes_size.Fraction(pad_fraction, width)\n",
    "    current_ax = plt.gca()\n",
    "    cax = divider.append_axes(\"right\", size=width, pad=pad)\n",
    "    plt.sca(current_ax)\n",
    "    return im.axes.figure.colorbar(im, cax=cax, **kwargs)\n",
    "\n",
    "def hovmoller(x, y, z, cmap=None, norm=None, add_colorbar=False, ax=None, title=None, \n",
    "              units=None, cb_extend='neither', cb_units_fontsize=20, cb_label_fontsize=15,\n",
    "              label_fontsize=15, title_fontsize=25, xlim=None, aspect=1.):\n",
    "    \"\"\"\n",
    "    Plots a Hovmoller for an array\n",
    "    \n",
    "    Arguments\n",
    "    ---------\n",
    "    x - x-axis values for plot (year)\n",
    "    y - y-axis values for plot (month)\n",
    "    z - values for hovmoller\n",
    "    \"\"\"\n",
    "\n",
    "    print (ax)\n",
    "    \n",
    "    ny, nx = z.shape\n",
    "    \n",
    "    if not ax:\n",
    "        ax = plt.subplot(111)\n",
    "\n",
    "    extent = [x.min()-0.5, x.max()+0.5, y.min()-0.5, y.max()+0.5]\n",
    "    im = ax.imshow(z, cmap=cmap, norm=norm, extent=extent, origin='lower', aspect=aspect)\n",
    "\n",
    "    if add_colorbar:\n",
    "        #cbar = plt.colorbar(im, ax=ax, extend=cb_extend)\n",
    "        cbar = ax_add_colorbar(im, pad_fraction=1.)\n",
    "        #divider = axes_grid1.make_axes_locatable(ax)\n",
    "        #cax = divider.append_axes(\"right\", size=\"1%\", pad=0.05)\n",
    "        #cbar = plt.colorbar(im, cax=cax)\n",
    "        cbar.ax.tick_params(labelsize=cb_label_fontsize)\n",
    "        if units: cbar.ax.set_ylabel(units, fontsize=cb_units_fontsize)\n",
    "\n",
    "    ylabels = [calendar.month_abbr[i].upper() for i in y]\n",
    "    \n",
    "    ax.set_yticks(np.arange(1,ny+1,1))\n",
    "    ax.set_yticklabels(ylabels, fontsize=label_fontsize)\n",
    "\n",
    "    ax.tick_params(labelsize=label_fontsize)\n",
    "\n",
    "    if xlim:\n",
    "        ax.set_xlim(xlim)\n",
    "        \n",
    "    if title: ax.set_title(title, fontsize=title_fontsize)\n",
    "\n",
    "#from lib.plots import nc_plot_hovmoller, nc_plot_spectrum\n",
    "\n",
    "def standardized_anomaly(x, start_year=1981, end_year=2010):\n",
    "    '''Calculate standardized climate anomalies for each month'''\n",
    "    return (x - x.loc[start_year: end_year].mean(axis=0, skipna=True)) / x.loc[start_year: end_year].std(axis=0, skipna=True)\n",
    "\n",
    "\n",
    "   \n",
    "#load data\n",
    "# filepath='/Users/stroeve/Documents/seaice/'\n",
    "# datafile=os.path.join(filepath,'Sea_Ice_Index_Monthly_Data_by_Year_G02135_v3.0.csv')\n",
    "# using csv readers then I should have use keywords index_col, header and usecols to tell read_csv which columns and rows in the csv contain the index values and\n",
    "# column headings. This avoids errors in assigning the wrong years to rows. so best to use:\n",
    "# pd.read_csv(filepath,index_col=0,head=0,usecols=[0,1,2,3,4,5,6,7,8,9,10,11,12])\n",
    "\n",
    "# SIC_df=pd.DataFrame() #initialize dataframe\n",
    "# SIC_df=pd.read_csv(datafile)\n",
    "    \n",
    "#cool way to read from a website\n",
    "url = \"ftp://sidads.colorado.edu/DATASETS/NOAA/G02135/seaice_analysis/Sea_Ice_Index_Monthly_Data_by_Year_G02135_v3.0.xlsx\"\n",
    "df = pd.read_excel(url, index_col=0, usecols='A:M')\n",
    "df.head()\n",
    "\n",
    "climate_period_start = 1981\n",
    "climate_period_end = 2010\n",
    "#transform expects a function, but it is sending in the df object\n",
    "df_stdanom = df.transform(standardized_anomaly, axis=0, start_year=climate_period_start, end_year=climate_period_end)\n",
    "df_stdanom.head(10)\n",
    "\n",
    "#an alternative to the above breaks down the steps\n",
    "# xmean = df.loc[climate_period_start: climate_period_end, :].mean(axis=0, skipna=True)\n",
    "# xstd = df.loc[climate_period_start: climate_period_end, :].std(axis=0, skipna=True)\n",
    "# df_stdanom_alt = (df - xmean) / xstd\n",
    "# df_stdanom_alt.head(10)\n",
    "\n",
    "#compute the mean from 1981 to 2010 for each month\n",
    "# clim=SIC_df.iloc[3:33,:].mean(skipna=True)  #this makes the climatology and skips the NaNs\n",
    "# anom=SIC_df-clim\n",
    "# anom['Year']=SIC_df['Year'] #fix the year in the anomaly data frame\n",
    "# stdev=SIC_df.iloc[3:33,:].std(skipna=True)\n",
    "# #compute standardized anomalies\n",
    "# anom_sd=anom/stdev\n",
    "# anom_sd['Year']=SIC_df['Year']\n",
    "\n",
    "\n",
    "#generate time index\n",
    "# time_index = pd.date_range('1978-09-01', '2020-10-01', freq='M')  # Generate example time index for sic\n",
    "# year_index = pd.period_range('1978','2020',freq='Y') #Generates a series of years\n",
    "# month_index= pd.interval_range(start=0,end=12)\n",
    "# hovmoller(year_index,month_index,anom_sd)\n",
    "\n",
    "# anom_sd['January'].plot()\n",
    "\n",
    "# Prepare inputs\n",
    "x = df_stdanom.index.values\n",
    "y = np.linspace(1,12,12).astype(int)\n",
    "z = df_stdanom.values.T"
   ]
  },
  {
   "cell_type": "code",
   "execution_count": 2,
   "id": "6b81ec1c",
   "metadata": {},
   "outputs": [],
   "source": [
    "seasons = ['Jan','Feb','Mar','Apr','May','Jun','Jul','Aug','Sep','Oct','Nov','Dec']"
   ]
  },
  {
   "cell_type": "code",
   "execution_count": 3,
   "id": "0ece25ee",
   "metadata": {},
   "outputs": [
    {
     "data": {
      "image/png": "[encoded data removed]",
      "text/plain": [
       "<Figure size 720x216 with 2 Axes>"
      ]
     },
     "metadata": {
      "needs_background": "light"
     },
     "output_type": "display_data"
    }
   ],
   "source": [
    "# Create plot\n",
    "mpl.rcParams[\"axes.formatter.useoffset\"] = False    #this fixes the x-axis plotting problem\n",
    "fig, ax = plt.subplots(figsize=(10, 3))\n",
    "\n",
    "\n",
    "im = plt.imshow(z,aspect=1,cmap='gray')\n",
    "plt.colorbar(im,label='Standardized Anomalies',pad=0.01)\n",
    "plt.yticks(np.arange(z.shape[0]),labels=seasons)\n",
    "plt.xticks(np.arange(z.shape[1]),labels=x,rotation=90)\n",
    "plt.ylabel('Month',fontsize='x-large')\n",
    "plt.xlabel('Year',fontsize='x-large')\n",
    "\n",
    "plt.tight_layout()\n",
    "\n",
    "data_dir = '/home/robbie/Dropbox/Apps/Overleaf/Book_chapter/figs'\n",
    "plt.savefig(f'{data_dir}/fig5_bw.jpg',dpi=500, bbox_inches='tight')\n",
    "\n",
    "plt.show()"
   ]
  },
  {
   "cell_type": "code",
   "execution_count": 4,
   "id": "5d3580af",
   "metadata": {},
   "outputs": [
    {
     "data": {
      "image/png": "[encoded data removed]",
      "text/plain": [
       "<Figure size 720x216 with 2 Axes>"
      ]
     },
     "metadata": {
      "needs_background": "light"
     },
     "output_type": "display_data"
    }
   ],
   "source": [
    "# Create plot\n",
    "mpl.rcParams[\"axes.formatter.useoffset\"] = False    #this fixes the x-axis plotting problem\n",
    "fig, ax = plt.subplots(figsize=(10, 3))\n",
    "\n",
    "\n",
    "im = plt.imshow(z,aspect=1,cmap=None)\n",
    "plt.colorbar(im,label='Standardized Anomalies',pad=0.01)\n",
    "plt.yticks(np.arange(z.shape[0]),labels=seasons)\n",
    "plt.xticks(np.arange(z.shape[1]),labels=x,rotation=90)\n",
    "plt.ylabel('Month',fontsize='x-large')\n",
    "plt.xlabel('Year',fontsize='x-large')\n",
    "\n",
    "plt.tight_layout()\n",
    "\n",
    "data_dir = '/home/robbie/Dropbox/Apps/Overleaf/Book_chapter/figs'\n",
    "plt.savefig(f'{data_dir}/fig5.jpg',dpi=500, bbox_inches='tight')\n",
    "\n",
    "plt.show()"
   ]
  },
  {
   "cell_type": "code",
   "execution_count": 11,
   "id": "812f8cb5",
   "metadata": {},
   "outputs": [
    {
     "data": {
      "text/html": [
       "<div>\n",
       "<style scoped>\n",
       "    .dataframe tbody tr th:only-of-type {\n",
       "        vertical-align: middle;\n",
       "    }\n",
       "\n",
       "    .dataframe tbody tr th {\n",
       "        vertical-align: top;\n",
       "    }\n",
       "\n",
       "    .dataframe thead th {\n",
       "        text-align: right;\n",
       "    }\n",
       "</style>\n",
       "<table border=\"1\" class=\"dataframe\">\n",
       "  <thead>\n",
       "    <tr style=\"text-align: right;\">\n",
       "      <th></th>\n",
       "      <th>January</th>\n",
       "      <th>February</th>\n",
       "      <th>March</th>\n",
       "      <th>April</th>\n",
       "      <th>May</th>\n",
       "      <th>June</th>\n",
       "      <th>July</th>\n",
       "      <th>August</th>\n",
       "      <th>September</th>\n",
       "      <th>October</th>\n",
       "      <th>November</th>\n",
       "      <th>December</th>\n",
       "    </tr>\n",
       "  </thead>\n",
       "  <tbody>\n",
       "    <tr>\n",
       "      <th>1978</th>\n",
       "      <td>NaN</td>\n",
       "      <td>NaN</td>\n",
       "      <td>NaN</td>\n",
       "      <td>NaN</td>\n",
       "      <td>NaN</td>\n",
       "      <td>NaN</td>\n",
       "      <td>NaN</td>\n",
       "      <td>NaN</td>\n",
       "      <td>NaN</td>\n",
       "      <td>NaN</td>\n",
       "      <td>11.645</td>\n",
       "      <td>13.667</td>\n",
       "    </tr>\n",
       "    <tr>\n",
       "      <th>1979</th>\n",
       "      <td>15.414</td>\n",
       "      <td>16.175</td>\n",
       "      <td>16.342</td>\n",
       "      <td>15.447</td>\n",
       "      <td>13.857</td>\n",
       "      <td>12.530</td>\n",
       "      <td>10.311</td>\n",
       "      <td>8.041</td>\n",
       "      <td>7.051</td>\n",
       "      <td>8.748</td>\n",
       "      <td>10.943</td>\n",
       "      <td>13.336</td>\n",
       "    </tr>\n",
       "    <tr>\n",
       "      <th>1980</th>\n",
       "      <td>14.862</td>\n",
       "      <td>15.955</td>\n",
       "      <td>16.041</td>\n",
       "      <td>15.429</td>\n",
       "      <td>13.793</td>\n",
       "      <td>12.205</td>\n",
       "      <td>10.100</td>\n",
       "      <td>7.984</td>\n",
       "      <td>7.667</td>\n",
       "      <td>9.183</td>\n",
       "      <td>11.383</td>\n",
       "      <td>13.593</td>\n",
       "    </tr>\n",
       "    <tr>\n",
       "      <th>1981</th>\n",
       "      <td>14.910</td>\n",
       "      <td>15.604</td>\n",
       "      <td>15.632</td>\n",
       "      <td>15.010</td>\n",
       "      <td>13.802</td>\n",
       "      <td>12.430</td>\n",
       "      <td>10.271</td>\n",
       "      <td>7.844</td>\n",
       "      <td>7.138</td>\n",
       "      <td>8.856</td>\n",
       "      <td>10.929</td>\n",
       "      <td>13.341</td>\n",
       "    </tr>\n",
       "    <tr>\n",
       "      <th>1982</th>\n",
       "      <td>15.177</td>\n",
       "      <td>15.974</td>\n",
       "      <td>16.044</td>\n",
       "      <td>15.466</td>\n",
       "      <td>13.973</td>\n",
       "      <td>12.476</td>\n",
       "      <td>10.367</td>\n",
       "      <td>8.139</td>\n",
       "      <td>7.302</td>\n",
       "      <td>9.421</td>\n",
       "      <td>11.627</td>\n",
       "      <td>13.642</td>\n",
       "    </tr>\n",
       "  </tbody>\n",
       "</table>\n",
       "</div>"
      ],
      "text/plain": [
       "      January  February   March   April     May    June    July  August  \\\n",
       "1978      NaN       NaN     NaN     NaN     NaN     NaN     NaN     NaN   \n",
       "1979   15.414    16.175  16.342  15.447  13.857  12.530  10.311   8.041   \n",
       "1980   14.862    15.955  16.041  15.429  13.793  12.205  10.100   7.984   \n",
       "1981   14.910    15.604  15.632  15.010  13.802  12.430  10.271   7.844   \n",
       "1982   15.177    15.974  16.044  15.466  13.973  12.476  10.367   8.139   \n",
       "\n",
       "      September  October  November  December  \n",
       "1978        NaN      NaN    11.645    13.667  \n",
       "1979      7.051    8.748    10.943    13.336  \n",
       "1980      7.667    9.183    11.383    13.593  \n",
       "1981      7.138    8.856    10.929    13.341  \n",
       "1982      7.302    9.421    11.627    13.642  "
      ]
     },
     "execution_count": 11,
     "metadata": {},
     "output_type": "execute_result"
    }
   ],
   "source": [
    "df.head()"
   ]
  },
  {
   "cell_type": "markdown",
   "id": "80543119",
   "metadata": {},
   "source": [
    "In October 2020 the largest departure from the 1981-2010 mean was observed, falling more than 3.6 standard deviations below the mean"
   ]
  },
  {
   "cell_type": "code",
   "execution_count": 13,
   "id": "743d11ea",
   "metadata": {},
   "outputs": [
    {
     "data": {
      "text/plain": [
       "2020   -3.633956\n",
       "Name: October, dtype: float64"
      ]
     },
     "execution_count": 13,
     "metadata": {},
     "output_type": "execute_result"
    }
   ],
   "source": [
    "(df_stdanom['October'][df_stdanom.index==2020])"
   ]
  },
  {
   "cell_type": "markdown",
   "id": "e21ae65c",
   "metadata": {},
   "source": [
    "representing a departure of 3 million km$^2$"
   ]
  },
  {
   "cell_type": "code",
   "execution_count": 15,
   "id": "aea89a23",
   "metadata": {},
   "outputs": [
    {
     "data": {
      "text/plain": [
       "2020    2.554349\n",
       "Name: October, dtype: float64"
      ]
     },
     "execution_count": 15,
     "metadata": {},
     "output_type": "execute_result"
    }
   ],
   "source": [
    "np.nanmean(df['October'])-df['October'][df.index==2020]"
   ]
  },
  {
   "cell_type": "code",
   "execution_count": 18,
   "id": "6059d193",
   "metadata": {},
   "outputs": [
    {
     "data": {
      "text/plain": [
       "2020    3.07969\n",
       "Name: October, dtype: float64"
      ]
     },
     "execution_count": 18,
     "metadata": {},
     "output_type": "execute_result"
    }
   ],
   "source": [
    "np.nanmean(df_stdanom['October'])-df_stdanom['October'][df_stdanom.index==2020]"
   ]
  },
  {
   "cell_type": "code",
   "execution_count": 19,
   "id": "8f7a5265",
   "metadata": {},
   "outputs": [
    {
     "data": {
      "text/plain": [
       "-0.5542658410832696"
      ]
     },
     "execution_count": 19,
     "metadata": {},
     "output_type": "execute_result"
    }
   ],
   "source": [
    "np.nanmean(df_stdanom['October'])"
   ]
  },
  {
   "cell_type": "code",
   "execution_count": 16,
   "id": "9fe05ca5",
   "metadata": {},
   "outputs": [
    {
     "data": {
      "text/plain": [
       "1.1434384677259164"
      ]
     },
     "execution_count": 16,
     "metadata": {},
     "output_type": "execute_result"
    }
   ],
   "source": [
    "np.nanstd(df['October'])"
   ]
  },
  {
   "cell_type": "code",
   "execution_count": 17,
   "id": "2de9fa9d",
   "metadata": {},
   "outputs": [
    {
     "data": {
      "text/plain": [
       "-2.9396325459317585"
      ]
     },
     "execution_count": 17,
     "metadata": {},
     "output_type": "execute_result"
    }
   ],
   "source": [
    "-3.36/1.143"
   ]
  }
 ],
 "metadata": {
  "kernelspec": {
   "display_name": "Python 3 (ipykernel)",
   "language": "python",
   "name": "python3"
  },
  "language_info": {
   "codemirror_mode": {
    "name": "ipython",
    "version": 3
   },
   "file_extension": ".py",
   "mimetype": "text/x-python",
   "name": "python",
   "nbconvert_exporter": "python",
   "pygments_lexer": "ipython3",
   "version": "3.9.7"
  }
 },
 "nbformat": 4,
 "nbformat_minor": 5
}
